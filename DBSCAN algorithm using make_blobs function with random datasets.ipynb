{
 "cells": [
  {
   "cell_type": "code",
   "execution_count": 46,
   "id": "2d6d9f81",
   "metadata": {},
   "outputs": [],
   "source": [
    "# load all the required libraries/packages\n",
    "\n",
    "import numpy as np\n",
    "from sklearn.cluster import DBSCAN\n",
    "import matplotlib.pyplot as plt\n",
    "%matplotlib inline\n",
    "from sklearn.datasets import make_blobs\n",
    "from sklearn.preprocessing import StandardScaler\n",
    "from pandas import DataFrame"
   ]
  },
  {
   "cell_type": "code",
   "execution_count": 47,
   "id": "59c7c04f",
   "metadata": {},
   "outputs": [],
   "source": [
    "# generating random datasets\n",
    "centers = [[4,4],[2,-2],[-1,3]]\n",
    "X,y = make_blobs(n_samples =1500,centers = centers,cluster_std =0.5,random_state = 0)\n",
    "# remove mean values and scale to one unit variance\n",
    "X = StandardScaler().fit_transform(X)"
   ]
  },
  {
   "cell_type": "code",
   "execution_count": 48,
   "id": "77d778e5",
   "metadata": {},
   "outputs": [
    {
     "data": {
      "text/plain": [
       "(array([[ 0.57149042, -1.52352591],\n",
       "        [-1.05523383,  0.4928966 ],\n",
       "        [ 0.27555993, -1.3221209 ],\n",
       "        ...,\n",
       "        [ 0.89723584,  0.79973404],\n",
       "        [ 0.15771576, -1.55298374],\n",
       "        [ 1.10525575,  0.95990212]]),\n",
       " (1500,))"
      ]
     },
     "execution_count": 48,
     "metadata": {},
     "output_type": "execute_result"
    }
   ],
   "source": [
    "X,y.shape"
   ]
  },
  {
   "cell_type": "code",
   "execution_count": 49,
   "id": "490297cf",
   "metadata": {},
   "outputs": [
    {
     "data": {
      "text/plain": [
       "array([0, 1, 0, ..., 2, 0, 2], dtype=int64)"
      ]
     },
     "execution_count": 49,
     "metadata": {},
     "output_type": "execute_result"
    }
   ],
   "source": [
    "# fit the data onto the DBSCAN algorithm\n",
    "\n",
    "epsilon = 0.4\n",
    "minimumSamples = 5\n",
    "\n",
    "db = DBSCAN(eps=epsilon,min_samples=minimumSamples).fit(X)\n",
    "labels =db.labels_\n",
    "labels"
   ]
  },
  {
   "cell_type": "code",
   "execution_count": 50,
   "id": "e5f13f72",
   "metadata": {},
   "outputs": [
    {
     "data": {
      "text/plain": [
       "array([ True,  True,  True, ...,  True,  True,  True])"
      ]
     },
     "execution_count": 50,
     "metadata": {},
     "output_type": "execute_result"
    }
   ],
   "source": [
    "core_sample_mask = np.zeros_like(labels,dtype=bool)\n",
    "core_sample_mask[db.core_sample_indices_]=True\n",
    "core_sample_mask"
   ]
  },
  {
   "cell_type": "code",
   "execution_count": 51,
   "id": "bfa89504",
   "metadata": {},
   "outputs": [
    {
     "data": {
      "text/plain": [
       "3"
      ]
     },
     "execution_count": 51,
     "metadata": {},
     "output_type": "execute_result"
    }
   ],
   "source": [
    "#finding number of clusters and ignoring noise if present\n",
    "n_clusters = len(set(labels)) - (1 if -1 in labels else 0)\n",
    "n_clusters"
   ]
  },
  {
   "cell_type": "code",
   "execution_count": 52,
   "id": "3854d2ab",
   "metadata": {},
   "outputs": [
    {
     "data": {
      "text/plain": [
       "{0, 1, 2}"
      ]
     },
     "execution_count": 52,
     "metadata": {},
     "output_type": "execute_result"
    }
   ],
   "source": [
    "#removing repitition\n",
    "\n",
    "unique_values = set(labels)\n",
    "unique_values"
   ]
  },
  {
   "cell_type": "code",
   "execution_count": 53,
   "id": "6d117252",
   "metadata": {},
   "outputs": [],
   "source": [
    "#Visualize the data, with labels =clusters\n",
    "\n",
    "def clusters(X,labels):\n",
    "    df = DataFrame(dict(x=X[:,0],y=X[:,1],label=labels))\n",
    "    colors ={-1:'red',0:'blue',1:'orange',2:'green'}\n",
    "    fig,ax = plt.subplots(figsize=(6,6))\n",
    "    grouped = df.groupby('label')\n",
    "    for key,group in grouped:\n",
    "        group.plot(ax=ax,kind = 'scatter',x = 'x',y='y', label=key, color=colors[key])\n",
    "    plt.xlabel('A')\n",
    "    plt.ylabel('B')\n",
    "    plt.show()\n",
    "        \n",
    "        "
   ]
  },
  {
   "cell_type": "code",
   "execution_count": 54,
   "id": "db9ea496",
   "metadata": {},
   "outputs": [
    {
     "data": {
      "image/png": "[encoded data removed]",
      "text/plain": [
       "<Figure size 432x432 with 1 Axes>"
      ]
     },
     "metadata": {
      "needs_background": "light"
     },
     "output_type": "display_data"
    }
   ],
   "source": [
    "clusters(X,labels)"
   ]
  },
  {
   "cell_type": "code",
   "execution_count": 68,
   "id": "2845a126",
   "metadata": {},
   "outputs": [
    {
     "data": {
      "text/html": [
       "<div>\n",
       "<style scoped>\n",
       "    .dataframe tbody tr th:only-of-type {\n",
       "        vertical-align: middle;\n",
       "    }\n",
       "\n",
       "    .dataframe tbody tr th {\n",
       "        vertical-align: top;\n",
       "    }\n",
       "\n",
       "    .dataframe thead th {\n",
       "        text-align: right;\n",
       "    }\n",
       "</style>\n",
       "<table border=\"1\" class=\"dataframe\">\n",
       "  <thead>\n",
       "    <tr style=\"text-align: right;\">\n",
       "      <th></th>\n",
       "      <th>x</th>\n",
       "      <th>y</th>\n",
       "      <th>label</th>\n",
       "    </tr>\n",
       "  </thead>\n",
       "  <tbody>\n",
       "    <tr>\n",
       "      <th>0</th>\n",
       "      <td>0.571490</td>\n",
       "      <td>-1.523526</td>\n",
       "      <td>0</td>\n",
       "    </tr>\n",
       "    <tr>\n",
       "      <th>1</th>\n",
       "      <td>-1.055234</td>\n",
       "      <td>0.492897</td>\n",
       "      <td>1</td>\n",
       "    </tr>\n",
       "    <tr>\n",
       "      <th>2</th>\n",
       "      <td>0.275560</td>\n",
       "      <td>-1.322121</td>\n",
       "      <td>0</td>\n",
       "    </tr>\n",
       "    <tr>\n",
       "      <th>3</th>\n",
       "      <td>1.223044</td>\n",
       "      <td>0.937946</td>\n",
       "      <td>2</td>\n",
       "    </tr>\n",
       "    <tr>\n",
       "      <th>4</th>\n",
       "      <td>1.217791</td>\n",
       "      <td>1.198065</td>\n",
       "      <td>2</td>\n",
       "    </tr>\n",
       "    <tr>\n",
       "      <th>...</th>\n",
       "      <td>...</td>\n",
       "      <td>...</td>\n",
       "      <td>...</td>\n",
       "    </tr>\n",
       "    <tr>\n",
       "      <th>1495</th>\n",
       "      <td>0.957822</td>\n",
       "      <td>0.781537</td>\n",
       "      <td>2</td>\n",
       "    </tr>\n",
       "    <tr>\n",
       "      <th>1496</th>\n",
       "      <td>1.103464</td>\n",
       "      <td>1.326658</td>\n",
       "      <td>2</td>\n",
       "    </tr>\n",
       "    <tr>\n",
       "      <th>1497</th>\n",
       "      <td>0.897236</td>\n",
       "      <td>0.799734</td>\n",
       "      <td>2</td>\n",
       "    </tr>\n",
       "    <tr>\n",
       "      <th>1498</th>\n",
       "      <td>0.157716</td>\n",
       "      <td>-1.552984</td>\n",
       "      <td>0</td>\n",
       "    </tr>\n",
       "    <tr>\n",
       "      <th>1499</th>\n",
       "      <td>1.105256</td>\n",
       "      <td>0.959902</td>\n",
       "      <td>2</td>\n",
       "    </tr>\n",
       "  </tbody>\n",
       "</table>\n",
       "<p>1500 rows × 3 columns</p>\n",
       "</div>"
      ],
      "text/plain": [
       "             x         y  label\n",
       "0     0.571490 -1.523526      0\n",
       "1    -1.055234  0.492897      1\n",
       "2     0.275560 -1.322121      0\n",
       "3     1.223044  0.937946      2\n",
       "4     1.217791  1.198065      2\n",
       "...        ...       ...    ...\n",
       "1495  0.957822  0.781537      2\n",
       "1496  1.103464  1.326658      2\n",
       "1497  0.897236  0.799734      2\n",
       "1498  0.157716 -1.552984      0\n",
       "1499  1.105256  0.959902      2\n",
       "\n",
       "[1500 rows x 3 columns]"
      ]
     },
     "execution_count": 68,
     "metadata": {},
     "output_type": "execute_result"
    }
   ],
   "source": [
    "df = DataFrame(dict(x=X[:,0],y=X[:,1],label=labels))\n",
    "df"
   ]
  },
  {
   "cell_type": "code",
   "execution_count": 56,
   "id": "eba64c9f",
   "metadata": {},
   "outputs": [
    {
     "data": {
      "text/plain": [
       "<pandas.core.groupby.generic.DataFrameGroupBy object at 0x0000026798948A30>"
      ]
     },
     "execution_count": 56,
     "metadata": {},
     "output_type": "execute_result"
    }
   ],
   "source": [
    "grouped = df.groupby('label')\n",
    "grouped"
   ]
  }
 ],
 "metadata": {
  "kernelspec": {
   "display_name": "Python 3",
   "language": "python",
   "name": "python3"
  },
  "language_info": {
   "codemirror_mode": {
    "name": "ipython",
    "version": 3
   },
   "file_extension": ".py",
   "mimetype": "text/x-python",
   "name": "python",
   "nbconvert_exporter": "python",
   "pygments_lexer": "ipython3",
   "version": "3.9.4"
  }
 },
 "nbformat": 4,
 "nbformat_minor": 5
}
