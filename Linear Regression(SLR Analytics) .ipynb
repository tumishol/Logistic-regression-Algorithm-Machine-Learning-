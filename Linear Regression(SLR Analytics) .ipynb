{
 "cells": [
  {
   "cell_type": "code",
   "execution_count": 2,
   "id": "17232aef",
   "metadata": {},
   "outputs": [],
   "source": [
    "import pandas as pd\n",
    "import numpy as np\n",
    "import matplotlib.pyplot as plt\n",
    "from sklearn.linear_model import LinearRegression\n",
    "from sklearn.model_selection import train_test_split"
   ]
  },
  {
   "cell_type": "code",
   "execution_count": 6,
   "id": "6d93ea37",
   "metadata": {},
   "outputs": [
    {
     "data": {
      "text/html": [
       "<div>\n",
       "<style scoped>\n",
       "    .dataframe tbody tr th:only-of-type {\n",
       "        vertical-align: middle;\n",
       "    }\n",
       "\n",
       "    .dataframe tbody tr th {\n",
       "        vertical-align: top;\n",
       "    }\n",
       "\n",
       "    .dataframe thead th {\n",
       "        text-align: right;\n",
       "    }\n",
       "</style>\n",
       "<table border=\"1\" class=\"dataframe\">\n",
       "  <thead>\n",
       "    <tr style=\"text-align: right;\">\n",
       "      <th></th>\n",
       "      <th>Rk</th>\n",
       "      <th>Squad</th>\n",
       "      <th>MP</th>\n",
       "      <th>W</th>\n",
       "      <th>D</th>\n",
       "      <th>L</th>\n",
       "      <th>GF</th>\n",
       "      <th>GA</th>\n",
       "      <th>Pts</th>\n",
       "      <th>Attendance</th>\n",
       "      <th>Top Team Scorer</th>\n",
       "      <th>Goalkeeper</th>\n",
       "      <th>Year</th>\n",
       "    </tr>\n",
       "  </thead>\n",
       "  <tbody>\n",
       "    <tr>\n",
       "      <th>0</th>\n",
       "      <td>1</td>\n",
       "      <td>Manchester Utd</td>\n",
       "      <td>38</td>\n",
       "      <td>25</td>\n",
       "      <td>7</td>\n",
       "      <td>6</td>\n",
       "      <td>73</td>\n",
       "      <td>35</td>\n",
       "      <td>82</td>\n",
       "      <td>41001</td>\n",
       "      <td>Eric Cantona - 14</td>\n",
       "      <td>Peter Schmeichel</td>\n",
       "      <td>1996</td>\n",
       "    </tr>\n",
       "    <tr>\n",
       "      <th>1</th>\n",
       "      <td>2</td>\n",
       "      <td>Newcastle Utd</td>\n",
       "      <td>38</td>\n",
       "      <td>24</td>\n",
       "      <td>6</td>\n",
       "      <td>8</td>\n",
       "      <td>66</td>\n",
       "      <td>37</td>\n",
       "      <td>78</td>\n",
       "      <td>36501</td>\n",
       "      <td>Les Ferdinand - 25</td>\n",
       "      <td>Shaka Hislop</td>\n",
       "      <td>1996</td>\n",
       "    </tr>\n",
       "    <tr>\n",
       "      <th>2</th>\n",
       "      <td>3</td>\n",
       "      <td>Liverpool</td>\n",
       "      <td>38</td>\n",
       "      <td>20</td>\n",
       "      <td>11</td>\n",
       "      <td>7</td>\n",
       "      <td>70</td>\n",
       "      <td>34</td>\n",
       "      <td>71</td>\n",
       "      <td>39553</td>\n",
       "      <td>Robbie Fowler - 28</td>\n",
       "      <td>David James</td>\n",
       "      <td>1996</td>\n",
       "    </tr>\n",
       "    <tr>\n",
       "      <th>3</th>\n",
       "      <td>4</td>\n",
       "      <td>Aston Villa</td>\n",
       "      <td>38</td>\n",
       "      <td>18</td>\n",
       "      <td>9</td>\n",
       "      <td>11</td>\n",
       "      <td>52</td>\n",
       "      <td>35</td>\n",
       "      <td>63</td>\n",
       "      <td>37492</td>\n",
       "      <td>Dwight Yorke - 17</td>\n",
       "      <td>Mark Bosnich</td>\n",
       "      <td>1996</td>\n",
       "    </tr>\n",
       "    <tr>\n",
       "      <th>4</th>\n",
       "      <td>5</td>\n",
       "      <td>Arsenal</td>\n",
       "      <td>38</td>\n",
       "      <td>17</td>\n",
       "      <td>12</td>\n",
       "      <td>9</td>\n",
       "      <td>49</td>\n",
       "      <td>32</td>\n",
       "      <td>63</td>\n",
       "      <td>32614</td>\n",
       "      <td>Ian Wright - 15</td>\n",
       "      <td>David Seaman</td>\n",
       "      <td>1996</td>\n",
       "    </tr>\n",
       "  </tbody>\n",
       "</table>\n",
       "</div>"
      ],
      "text/plain": [
       "   Rk           Squad  MP   W   D   L  GF  GA  Pts  Attendance  \\\n",
       "0   1  Manchester Utd  38  25   7   6  73  35   82       41001   \n",
       "1   2   Newcastle Utd  38  24   6   8  66  37   78       36501   \n",
       "2   3       Liverpool  38  20  11   7  70  34   71       39553   \n",
       "3   4     Aston Villa  38  18   9  11  52  35   63       37492   \n",
       "4   5         Arsenal  38  17  12   9  49  32   63       32614   \n",
       "\n",
       "      Top Team Scorer        Goalkeeper  Year  \n",
       "0   Eric Cantona - 14  Peter Schmeichel  1996  \n",
       "1  Les Ferdinand - 25      Shaka Hislop  1996  \n",
       "2  Robbie Fowler - 28       David James  1996  \n",
       "3   Dwight Yorke - 17      Mark Bosnich  1996  \n",
       "4     Ian Wright - 15      David Seaman  1996  "
      ]
     },
     "execution_count": 6,
     "metadata": {},
     "output_type": "execute_result"
    }
   ],
   "source": [
    "df = pd.read_csv('https://raw.githubusercontent.com/mckayjohns/linearregression/main/1995_96%20-%202020%20Premier%20league%20standings.csv')\n",
    "df.head()"
   ]
  },
  {
   "cell_type": "code",
   "execution_count": 8,
   "id": "f4ed7db1",
   "metadata": {},
   "outputs": [
    {
     "data": {
      "text/html": [
       "<div>\n",
       "<style scoped>\n",
       "    .dataframe tbody tr th:only-of-type {\n",
       "        vertical-align: middle;\n",
       "    }\n",
       "\n",
       "    .dataframe tbody tr th {\n",
       "        vertical-align: top;\n",
       "    }\n",
       "\n",
       "    .dataframe thead th {\n",
       "        text-align: right;\n",
       "    }\n",
       "</style>\n",
       "<table border=\"1\" class=\"dataframe\">\n",
       "  <thead>\n",
       "    <tr style=\"text-align: right;\">\n",
       "      <th></th>\n",
       "      <th>Rk</th>\n",
       "      <th>Squad</th>\n",
       "      <th>MP</th>\n",
       "      <th>W</th>\n",
       "      <th>D</th>\n",
       "      <th>L</th>\n",
       "      <th>GF</th>\n",
       "      <th>GA</th>\n",
       "      <th>Pts</th>\n",
       "      <th>Attendance</th>\n",
       "      <th>Top Team Scorer</th>\n",
       "      <th>Goalkeeper</th>\n",
       "      <th>Year</th>\n",
       "      <th>GD</th>\n",
       "    </tr>\n",
       "  </thead>\n",
       "  <tbody>\n",
       "    <tr>\n",
       "      <th>0</th>\n",
       "      <td>1</td>\n",
       "      <td>Manchester Utd</td>\n",
       "      <td>38</td>\n",
       "      <td>25</td>\n",
       "      <td>7</td>\n",
       "      <td>6</td>\n",
       "      <td>73</td>\n",
       "      <td>35</td>\n",
       "      <td>82</td>\n",
       "      <td>41001</td>\n",
       "      <td>Eric Cantona - 14</td>\n",
       "      <td>Peter Schmeichel</td>\n",
       "      <td>1996</td>\n",
       "      <td>38</td>\n",
       "    </tr>\n",
       "    <tr>\n",
       "      <th>1</th>\n",
       "      <td>2</td>\n",
       "      <td>Newcastle Utd</td>\n",
       "      <td>38</td>\n",
       "      <td>24</td>\n",
       "      <td>6</td>\n",
       "      <td>8</td>\n",
       "      <td>66</td>\n",
       "      <td>37</td>\n",
       "      <td>78</td>\n",
       "      <td>36501</td>\n",
       "      <td>Les Ferdinand - 25</td>\n",
       "      <td>Shaka Hislop</td>\n",
       "      <td>1996</td>\n",
       "      <td>29</td>\n",
       "    </tr>\n",
       "    <tr>\n",
       "      <th>2</th>\n",
       "      <td>3</td>\n",
       "      <td>Liverpool</td>\n",
       "      <td>38</td>\n",
       "      <td>20</td>\n",
       "      <td>11</td>\n",
       "      <td>7</td>\n",
       "      <td>70</td>\n",
       "      <td>34</td>\n",
       "      <td>71</td>\n",
       "      <td>39553</td>\n",
       "      <td>Robbie Fowler - 28</td>\n",
       "      <td>David James</td>\n",
       "      <td>1996</td>\n",
       "      <td>36</td>\n",
       "    </tr>\n",
       "    <tr>\n",
       "      <th>3</th>\n",
       "      <td>4</td>\n",
       "      <td>Aston Villa</td>\n",
       "      <td>38</td>\n",
       "      <td>18</td>\n",
       "      <td>9</td>\n",
       "      <td>11</td>\n",
       "      <td>52</td>\n",
       "      <td>35</td>\n",
       "      <td>63</td>\n",
       "      <td>37492</td>\n",
       "      <td>Dwight Yorke - 17</td>\n",
       "      <td>Mark Bosnich</td>\n",
       "      <td>1996</td>\n",
       "      <td>17</td>\n",
       "    </tr>\n",
       "    <tr>\n",
       "      <th>4</th>\n",
       "      <td>5</td>\n",
       "      <td>Arsenal</td>\n",
       "      <td>38</td>\n",
       "      <td>17</td>\n",
       "      <td>12</td>\n",
       "      <td>9</td>\n",
       "      <td>49</td>\n",
       "      <td>32</td>\n",
       "      <td>63</td>\n",
       "      <td>32614</td>\n",
       "      <td>Ian Wright - 15</td>\n",
       "      <td>David Seaman</td>\n",
       "      <td>1996</td>\n",
       "      <td>17</td>\n",
       "    </tr>\n",
       "    <tr>\n",
       "      <th>...</th>\n",
       "      <td>...</td>\n",
       "      <td>...</td>\n",
       "      <td>...</td>\n",
       "      <td>...</td>\n",
       "      <td>...</td>\n",
       "      <td>...</td>\n",
       "      <td>...</td>\n",
       "      <td>...</td>\n",
       "      <td>...</td>\n",
       "      <td>...</td>\n",
       "      <td>...</td>\n",
       "      <td>...</td>\n",
       "      <td>...</td>\n",
       "      <td>...</td>\n",
       "    </tr>\n",
       "    <tr>\n",
       "      <th>495</th>\n",
       "      <td>16</td>\n",
       "      <td>West Ham</td>\n",
       "      <td>38</td>\n",
       "      <td>10</td>\n",
       "      <td>9</td>\n",
       "      <td>19</td>\n",
       "      <td>49</td>\n",
       "      <td>62</td>\n",
       "      <td>39</td>\n",
       "      <td>44155</td>\n",
       "      <td>Michail Antonio - 10</td>\n",
       "      <td>Łukasz Fabiański</td>\n",
       "      <td>2020</td>\n",
       "      <td>-13</td>\n",
       "    </tr>\n",
       "    <tr>\n",
       "      <th>496</th>\n",
       "      <td>17</td>\n",
       "      <td>Aston Villa</td>\n",
       "      <td>38</td>\n",
       "      <td>9</td>\n",
       "      <td>8</td>\n",
       "      <td>21</td>\n",
       "      <td>41</td>\n",
       "      <td>67</td>\n",
       "      <td>35</td>\n",
       "      <td>28505</td>\n",
       "      <td>Jack Grealish - 8</td>\n",
       "      <td>Tom Heaton</td>\n",
       "      <td>2020</td>\n",
       "      <td>-26</td>\n",
       "    </tr>\n",
       "    <tr>\n",
       "      <th>497</th>\n",
       "      <td>18</td>\n",
       "      <td>Bournemouth</td>\n",
       "      <td>38</td>\n",
       "      <td>9</td>\n",
       "      <td>7</td>\n",
       "      <td>22</td>\n",
       "      <td>40</td>\n",
       "      <td>65</td>\n",
       "      <td>34</td>\n",
       "      <td>7745</td>\n",
       "      <td>Callum Wilson - 8</td>\n",
       "      <td>Aaron Ramsdale</td>\n",
       "      <td>2020</td>\n",
       "      <td>-25</td>\n",
       "    </tr>\n",
       "    <tr>\n",
       "      <th>498</th>\n",
       "      <td>19</td>\n",
       "      <td>Watford</td>\n",
       "      <td>38</td>\n",
       "      <td>8</td>\n",
       "      <td>10</td>\n",
       "      <td>20</td>\n",
       "      <td>36</td>\n",
       "      <td>64</td>\n",
       "      <td>34</td>\n",
       "      <td>15353</td>\n",
       "      <td>Troy Deeney - 10</td>\n",
       "      <td>Ben Foster</td>\n",
       "      <td>2020</td>\n",
       "      <td>-28</td>\n",
       "    </tr>\n",
       "    <tr>\n",
       "      <th>499</th>\n",
       "      <td>20</td>\n",
       "      <td>Norwich City</td>\n",
       "      <td>38</td>\n",
       "      <td>5</td>\n",
       "      <td>6</td>\n",
       "      <td>27</td>\n",
       "      <td>26</td>\n",
       "      <td>75</td>\n",
       "      <td>21</td>\n",
       "      <td>19913</td>\n",
       "      <td>Teemu Pukki - 11</td>\n",
       "      <td>Tim Krul</td>\n",
       "      <td>2020</td>\n",
       "      <td>-49</td>\n",
       "    </tr>\n",
       "  </tbody>\n",
       "</table>\n",
       "<p>500 rows × 14 columns</p>\n",
       "</div>"
      ],
      "text/plain": [
       "     Rk           Squad  MP   W   D   L  GF  GA  Pts  Attendance  \\\n",
       "0     1  Manchester Utd  38  25   7   6  73  35   82       41001   \n",
       "1     2   Newcastle Utd  38  24   6   8  66  37   78       36501   \n",
       "2     3       Liverpool  38  20  11   7  70  34   71       39553   \n",
       "3     4     Aston Villa  38  18   9  11  52  35   63       37492   \n",
       "4     5         Arsenal  38  17  12   9  49  32   63       32614   \n",
       "..   ..             ...  ..  ..  ..  ..  ..  ..  ...         ...   \n",
       "495  16        West Ham  38  10   9  19  49  62   39       44155   \n",
       "496  17     Aston Villa  38   9   8  21  41  67   35       28505   \n",
       "497  18     Bournemouth  38   9   7  22  40  65   34        7745   \n",
       "498  19         Watford  38   8  10  20  36  64   34       15353   \n",
       "499  20    Norwich City  38   5   6  27  26  75   21       19913   \n",
       "\n",
       "          Top Team Scorer        Goalkeeper  Year  GD  \n",
       "0       Eric Cantona - 14  Peter Schmeichel  1996  38  \n",
       "1      Les Ferdinand - 25      Shaka Hislop  1996  29  \n",
       "2      Robbie Fowler - 28       David James  1996  36  \n",
       "3       Dwight Yorke - 17      Mark Bosnich  1996  17  \n",
       "4         Ian Wright - 15      David Seaman  1996  17  \n",
       "..                    ...               ...   ...  ..  \n",
       "495  Michail Antonio - 10  Łukasz Fabiański  2020 -13  \n",
       "496     Jack Grealish - 8        Tom Heaton  2020 -26  \n",
       "497     Callum Wilson - 8    Aaron Ramsdale  2020 -25  \n",
       "498      Troy Deeney - 10        Ben Foster  2020 -28  \n",
       "499      Teemu Pukki - 11          Tim Krul  2020 -49  \n",
       "\n",
       "[500 rows x 14 columns]"
      ]
     },
     "execution_count": 8,
     "metadata": {},
     "output_type": "execute_result"
    }
   ],
   "source": [
    "df"
   ]
  },
  {
   "cell_type": "code",
   "execution_count": 7,
   "id": "d60fc60b",
   "metadata": {},
   "outputs": [],
   "source": [
    "df['GD'] = df['GF'] - df['GA']   "
   ]
  },
  {
   "cell_type": "code",
   "execution_count": 21,
   "id": "1cd58511",
   "metadata": {},
   "outputs": [],
   "source": [
    "# Setting up x & y variables\n",
    "\n",
    "X = df['GD'].values.reshape(-1,1)\n",
    "Y = df.iloc[:,0]   "
   ]
  },
  {
   "cell_type": "code",
   "execution_count": 22,
   "id": "62c0cf68",
   "metadata": {},
   "outputs": [
    {
     "name": "stdout",
     "output_type": "stream",
     "text": [
      "(350, 1)\n",
      "(350,)\n",
      "(150, 1)\n",
      "(150,)\n"
     ]
    }
   ],
   "source": [
    "# split data for train and test\n",
    "\n",
    "X_train, X_test,y_train, y_test = train_test_split(X,Y, test_size = 0.3, random_state = 4)\n",
    "print(X_train.shape)\n",
    "print(y_train.shape)\n",
    "print(X_test.shape)\n",
    "print(y_test.shape)"
   ]
  },
  {
   "cell_type": "code",
   "execution_count": 24,
   "id": "eb15b018",
   "metadata": {},
   "outputs": [],
   "source": [
    "# fit split data into the LR algorithm\n",
    "\n",
    "LR = LinearRegression()\n",
    "model = LR.fit(X_train,y_train)"
   ]
  },
  {
   "cell_type": "code",
   "execution_count": 26,
   "id": "9ed1040d",
   "metadata": {},
   "outputs": [
    {
     "data": {
      "text/plain": [
       "10.607018378411594"
      ]
     },
     "execution_count": 26,
     "metadata": {},
     "output_type": "execute_result"
    }
   ],
   "source": [
    "model.intercept_"
   ]
  },
  {
   "cell_type": "code",
   "execution_count": 28,
   "id": "a7e6cd1d",
   "metadata": {},
   "outputs": [
    {
     "data": {
      "text/plain": [
       "array([-0.2167219])"
      ]
     },
     "execution_count": 28,
     "metadata": {},
     "output_type": "execute_result"
    }
   ],
   "source": [
    "model.coef_"
   ]
  },
  {
   "cell_type": "code",
   "execution_count": 31,
   "id": "ba08ecf6",
   "metadata": {},
   "outputs": [
    {
     "data": {
      "text/plain": [
       "array([ 6.48930219, 12.34079362,  5.83913648,  7.78963362, 11.25718409])"
      ]
     },
     "execution_count": 31,
     "metadata": {},
     "output_type": "execute_result"
    }
   ],
   "source": [
    "# predict \n",
    "\n",
    "y_predict = model.predict(X_test)\n",
    "y_predict[0:5]"
   ]
  },
  {
   "cell_type": "code",
   "execution_count": 49,
   "id": "c2506934",
   "metadata": {},
   "outputs": [
    {
     "data": {
      "text/plain": [
       "array([ 6.48930219, 12.34079362,  5.83913648,  7.78963362, 11.25718409])"
      ]
     },
     "execution_count": 49,
     "metadata": {},
     "output_type": "execute_result"
    }
   ],
   "source": [
    "y_predict = model.predict(X_test)\n",
    "y_predict[0:5]"
   ]
  },
  {
   "cell_type": "code",
   "execution_count": 50,
   "id": "9942f79d",
   "metadata": {},
   "outputs": [
    {
     "data": {
      "image/png": "[encoded data removed]",
      "text/plain": [
       "<Figure size 468x468 with 1 Axes>"
      ]
     },
     "metadata": {
      "needs_background": "light"
     },
     "output_type": "display_data"
    }
   ],
   "source": [
    "#Plotting\n",
    "%matplotlib inline\n",
    "\n",
    "fig, ax = plt.subplots(figsize=(6.5,6.5))\n",
    "plt.scatter(X,Y,color = 'r',marker = 'o',s = 75)\n",
    "plt.plot(X_test,y_predict, c  = 'blue',)\n",
    "plt.yticks([1,2,3,4,5,6,7,8,9,10,11,12,13,14,15,16,17,18,19,20])\n",
    "plt.ylim(0.5,20.5)\n",
    "plt.gca().invert_yaxis()\n",
    "plt.title('GD vs League positions')\n",
    "plt.xlabel('GD')\n",
    "plt.ylabel('League positions')\n",
    "plt.grid()"
   ]
  },
  {
   "cell_type": "code",
   "execution_count": 52,
   "id": "4c12fb8a",
   "metadata": {},
   "outputs": [
    {
     "name": "stdout",
     "output_type": "stream",
     "text": [
      "5.640306729329638\n"
     ]
    }
   ],
   "source": [
    "from sklearn.metrics import mean_squared_error\n",
    "MSE = mean_squared_error(y_test,y_predict)\n",
    "print(MSE)"
   ]
  },
  {
   "cell_type": "code",
   "execution_count": 55,
   "id": "bc36d925",
   "metadata": {},
   "outputs": [
    {
     "data": {
      "text/plain": [
       "0.8043902650376757"
      ]
     },
     "execution_count": 55,
     "metadata": {},
     "output_type": "execute_result"
    }
   ],
   "source": [
    "r_sq = model.score(X_test,y_test)\n",
    "r_sq"
   ]
  },
  {
   "cell_type": "code",
   "execution_count": 64,
   "id": "cb376894",
   "metadata": {},
   "outputs": [
    {
     "data": {
      "image/png": "[encoded data removed]",
      "text/plain": [
       "<Figure size 468x432 with 1 Axes>"
      ]
     },
     "metadata": {
      "needs_background": "light"
     },
     "output_type": "display_data"
    }
   ],
   "source": [
    "import seaborn as sns\n",
    "width = 6.5\n",
    "height = 6\n",
    "\n",
    "plt.subplots(figsize=(width,height))\n",
    "sns.residplot(X_test,y_test)\n",
    "plt.title('GD V League position')\n",
    "plt.show()"
   ]
  },
  {
   "cell_type": "code",
   "execution_count": null,
   "id": "4da1dff5",
   "metadata": {},
   "outputs": [],
   "source": []
  }
 ],
 "metadata": {
  "kernelspec": {
   "display_name": "Python 3",
   "language": "python",
   "name": "python3"
  },
  "language_info": {
   "codemirror_mode": {
    "name": "ipython",
    "version": 3
   },
   "file_extension": ".py",
   "mimetype": "text/x-python",
   "name": "python",
   "nbconvert_exporter": "python",
   "pygments_lexer": "ipython3",
   "version": "3.9.4"
  }
 },
 "nbformat": 4,
 "nbformat_minor": 5
}
