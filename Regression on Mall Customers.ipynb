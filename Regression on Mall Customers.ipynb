{
 "cells": [
  {
   "cell_type": "code",
   "execution_count": 1,
   "id": "2b8d5dc8",
   "metadata": {},
   "outputs": [],
   "source": [
    "import pandas as pd\n",
    "import numpy as np"
   ]
  },
  {
   "cell_type": "code",
   "execution_count": 3,
   "id": "84091cbc",
   "metadata": {},
   "outputs": [],
   "source": [
    "df = pd.read_csv('E:\\Datasets\\Mall_Customers.csv')"
   ]
  },
  {
   "cell_type": "code",
   "execution_count": 6,
   "id": "f340a369",
   "metadata": {},
   "outputs": [],
   "source": [
    "df.rename(columns = {'Annual Income (k$)':'Annual_Income','Spending Score (1-100)':'Spending_Score'},inplace = True)\n"
   ]
  },
  {
   "cell_type": "code",
   "execution_count": 7,
   "id": "9a833da6",
   "metadata": {},
   "outputs": [
    {
     "data": {
      "text/html": [
       "<div>\n",
       "<style scoped>\n",
       "    .dataframe tbody tr th:only-of-type {\n",
       "        vertical-align: middle;\n",
       "    }\n",
       "\n",
       "    .dataframe tbody tr th {\n",
       "        vertical-align: top;\n",
       "    }\n",
       "\n",
       "    .dataframe thead th {\n",
       "        text-align: right;\n",
       "    }\n",
       "</style>\n",
       "<table border=\"1\" class=\"dataframe\">\n",
       "  <thead>\n",
       "    <tr style=\"text-align: right;\">\n",
       "      <th></th>\n",
       "      <th>CustomerID</th>\n",
       "      <th>Genre</th>\n",
       "      <th>Age</th>\n",
       "      <th>Annual_Income</th>\n",
       "      <th>Spending_Score</th>\n",
       "    </tr>\n",
       "  </thead>\n",
       "  <tbody>\n",
       "    <tr>\n",
       "      <th>0</th>\n",
       "      <td>1</td>\n",
       "      <td>Male</td>\n",
       "      <td>19</td>\n",
       "      <td>15</td>\n",
       "      <td>39</td>\n",
       "    </tr>\n",
       "    <tr>\n",
       "      <th>1</th>\n",
       "      <td>2</td>\n",
       "      <td>Male</td>\n",
       "      <td>21</td>\n",
       "      <td>15</td>\n",
       "      <td>81</td>\n",
       "    </tr>\n",
       "    <tr>\n",
       "      <th>2</th>\n",
       "      <td>3</td>\n",
       "      <td>Female</td>\n",
       "      <td>20</td>\n",
       "      <td>16</td>\n",
       "      <td>6</td>\n",
       "    </tr>\n",
       "    <tr>\n",
       "      <th>3</th>\n",
       "      <td>4</td>\n",
       "      <td>Female</td>\n",
       "      <td>23</td>\n",
       "      <td>16</td>\n",
       "      <td>77</td>\n",
       "    </tr>\n",
       "    <tr>\n",
       "      <th>4</th>\n",
       "      <td>5</td>\n",
       "      <td>Female</td>\n",
       "      <td>31</td>\n",
       "      <td>17</td>\n",
       "      <td>40</td>\n",
       "    </tr>\n",
       "  </tbody>\n",
       "</table>\n",
       "</div>"
      ],
      "text/plain": [
       "   CustomerID   Genre  Age  Annual_Income  Spending_Score\n",
       "0           1    Male   19             15              39\n",
       "1           2    Male   21             15              81\n",
       "2           3  Female   20             16               6\n",
       "3           4  Female   23             16              77\n",
       "4           5  Female   31             17              40"
      ]
     },
     "execution_count": 7,
     "metadata": {},
     "output_type": "execute_result"
    }
   ],
   "source": [
    "df.head()"
   ]
  },
  {
   "cell_type": "code",
   "execution_count": 8,
   "id": "8a8656bc",
   "metadata": {},
   "outputs": [
    {
     "data": {
      "text/plain": [
       "(200, 5)"
      ]
     },
     "execution_count": 8,
     "metadata": {},
     "output_type": "execute_result"
    }
   ],
   "source": [
    "df.shape"
   ]
  },
  {
   "cell_type": "code",
   "execution_count": 9,
   "id": "6f44bf1a",
   "metadata": {},
   "outputs": [
    {
     "data": {
      "text/plain": [
       "CustomerID        0\n",
       "Genre             0\n",
       "Age               0\n",
       "Annual_Income     0\n",
       "Spending_Score    0\n",
       "dtype: int64"
      ]
     },
     "execution_count": 9,
     "metadata": {},
     "output_type": "execute_result"
    }
   ],
   "source": [
    "df.isnull().sum()"
   ]
  },
  {
   "cell_type": "code",
   "execution_count": 10,
   "id": "30448786",
   "metadata": {},
   "outputs": [],
   "source": [
    "# Evaluating a linear relationship btwn Age vs Annual income\n",
    "# Evaluating a linear relationship btwn age vs spending score\n",
    "# Evaluating a linear relationship btwn annual income v spending score\n",
    "# Evaluating a linear relationship btwn genre v spending score\n",
    "\n",
    "from sklearn.linear_model import LinearRegression"
   ]
  },
  {
   "cell_type": "code",
   "execution_count": 15,
   "id": "a9152bae",
   "metadata": {},
   "outputs": [],
   "source": [
    "X = df[['Age']]\n",
    "Y = df['Annual_Income']"
   ]
  },
  {
   "cell_type": "code",
   "execution_count": 16,
   "id": "554a6a9d",
   "metadata": {},
   "outputs": [],
   "source": [
    "lm = LinearRegression()"
   ]
  },
  {
   "cell_type": "code",
   "execution_count": 17,
   "id": "4cc7f128",
   "metadata": {},
   "outputs": [
    {
     "data": {
      "text/plain": [
       "LinearRegression()"
      ]
     },
     "execution_count": 17,
     "metadata": {},
     "output_type": "execute_result"
    }
   ],
   "source": [
    "lm.fit(X,Y)"
   ]
  },
  {
   "cell_type": "code",
   "execution_count": 19,
   "id": "b88284b6",
   "metadata": {},
   "outputs": [
    {
     "data": {
      "text/plain": [
       "61.4656312529776"
      ]
     },
     "execution_count": 19,
     "metadata": {},
     "output_type": "execute_result"
    }
   ],
   "source": [
    "lm.intercept_"
   ]
  },
  {
   "cell_type": "code",
   "execution_count": 20,
   "id": "b8b39421",
   "metadata": {},
   "outputs": [
    {
     "data": {
      "text/plain": [
       "array([-0.02331097])"
      ]
     },
     "execution_count": 20,
     "metadata": {},
     "output_type": "execute_result"
    }
   ],
   "source": [
    "lm.coef_"
   ]
  },
  {
   "cell_type": "code",
   "execution_count": 21,
   "id": "c86eb4e1",
   "metadata": {},
   "outputs": [],
   "source": [
    "Yhat = lm.predict(X)"
   ]
  },
  {
   "cell_type": "code",
   "execution_count": 12,
   "id": "8321c090",
   "metadata": {},
   "outputs": [],
   "source": [
    "# Visualisation Evaluation\n",
    "import matplotlib.pyplot as plt\n",
    "%matplotlib inline"
   ]
  },
  {
   "cell_type": "code",
   "execution_count": 22,
   "id": "752aa34d",
   "metadata": {},
   "outputs": [
    {
     "data": {
      "image/png": "[encoded data removed]",
      "text/plain": [
       "<Figure size 432x288 with 1 Axes>"
      ]
     },
     "metadata": {
      "needs_background": "light"
     },
     "output_type": "display_data"
    }
   ],
   "source": [
    "plt.scatter(X,Y,color = 'r',marker = 'o')\n",
    "plt.title('Age vs Annual_Income')\n",
    "plt.xlabel('Age')\n",
    "plt.ylabel('Annual_Income')\n",
    "plt.grid()"
   ]
  },
  {
   "cell_type": "code",
   "execution_count": 23,
   "id": "2bafde23",
   "metadata": {},
   "outputs": [
    {
     "data": {
      "text/plain": [
       "Text(0, 0.5, 'Annual Income')"
      ]
     },
     "execution_count": 23,
     "metadata": {},
     "output_type": "execute_result"
    },
    {
     "data": {
      "image/png": "[encoded data removed]",
      "text/plain": [
       "<Figure size 360x360 with 1 Axes>"
      ]
     },
     "metadata": {
      "needs_background": "light"
     },
     "output_type": "display_data"
    }
   ],
   "source": [
    "import seaborn as sns\n",
    "%matplotlib inline\n",
    "width = 5\n",
    "height = 5\n",
    "plt.figure(figsize=(width,height))\n",
    "sns.regplot(x = 'Age',y = 'Annual_Income',color = 'g',marker = 'o', data = df)\n",
    "plt.ylim(0,)\n",
    "plt.title('Age vs Annual Income')\n",
    "plt.xlabel('Age')\n",
    "plt.ylabel('Annual Income')"
   ]
  },
  {
   "cell_type": "code",
   "execution_count": 24,
   "id": "3d15966a",
   "metadata": {},
   "outputs": [
    {
     "data": {
      "text/plain": [
       "0.00015371146368514665"
      ]
     },
     "execution_count": 24,
     "metadata": {},
     "output_type": "execute_result"
    }
   ],
   "source": [
    "lm.score(X,Y)"
   ]
  },
  {
   "cell_type": "code",
   "execution_count": 25,
   "id": "1db12716",
   "metadata": {},
   "outputs": [
    {
     "data": {
      "text/plain": [
       "686.2808945418024"
      ]
     },
     "execution_count": 25,
     "metadata": {},
     "output_type": "execute_result"
    }
   ],
   "source": [
    "from sklearn.metrics import mean_squared_error\n",
    "MSE = mean_squared_error(Y,Yhat)\n",
    "MSE"
   ]
  },
  {
   "cell_type": "code",
   "execution_count": 53,
   "id": "45af9874",
   "metadata": {},
   "outputs": [],
   "source": [
    "# Multiple linear regression\n",
    "\n",
    "X1 = df[['Age','Annual_Income']]\n",
    "Y1 = df['Spending_Score']"
   ]
  },
  {
   "cell_type": "code",
   "execution_count": 27,
   "id": "94793a3e",
   "metadata": {},
   "outputs": [
    {
     "data": {
      "text/plain": [
       "LinearRegression()"
      ]
     },
     "execution_count": 27,
     "metadata": {},
     "output_type": "execute_result"
    }
   ],
   "source": [
    "lm.fit(X1,Y1)"
   ]
  },
  {
   "cell_type": "code",
   "execution_count": 51,
   "id": "bb12f6d4",
   "metadata": {},
   "outputs": [
    {
     "data": {
      "text/plain": [
       "(200, 2)"
      ]
     },
     "execution_count": 51,
     "metadata": {},
     "output_type": "execute_result"
    }
   ],
   "source": [
    "X1.shape"
   ]
  },
  {
   "cell_type": "code",
   "execution_count": 49,
   "id": "0ad4026b",
   "metadata": {},
   "outputs": [
    {
     "data": {
      "text/plain": [
       "(200,)"
      ]
     },
     "execution_count": 49,
     "metadata": {},
     "output_type": "execute_result"
    }
   ],
   "source": [
    "Y1.shape"
   ]
  },
  {
   "cell_type": "code",
   "execution_count": 28,
   "id": "a1b65826",
   "metadata": {},
   "outputs": [
    {
     "data": {
      "text/plain": [
       "73.34785222186397"
      ]
     },
     "execution_count": 28,
     "metadata": {},
     "output_type": "execute_result"
    }
   ],
   "source": [
    "lm.intercept_"
   ]
  },
  {
   "cell_type": "code",
   "execution_count": 29,
   "id": "35fd0301",
   "metadata": {},
   "outputs": [
    {
     "data": {
      "text/plain": [
       "array([-0.60478726,  0.00574856])"
      ]
     },
     "execution_count": 29,
     "metadata": {},
     "output_type": "execute_result"
    }
   ],
   "source": [
    "lm.coef_"
   ]
  },
  {
   "cell_type": "code",
   "execution_count": 31,
   "id": "7b1e1b94",
   "metadata": {},
   "outputs": [],
   "source": [
    "Yhat1 =lm.predict(X1)"
   ]
  },
  {
   "cell_type": "code",
   "execution_count": 32,
   "id": "f3f7e287",
   "metadata": {},
   "outputs": [
    {
     "name": "stderr",
     "output_type": "stream",
     "text": [
      "c:\\users\\ncmol\\appdata\\local\\programs\\common\\lib\\site-packages\\seaborn\\distributions.py:2557: FutureWarning: `distplot` is a deprecated function and will be removed in a future version. Please adapt your code to use either `displot` (a figure-level function with similar flexibility) or `kdeplot` (an axes-level function for kernel density plots).\n",
      "  warnings.warn(msg, FutureWarning)\n",
      "c:\\users\\ncmol\\appdata\\local\\programs\\common\\lib\\site-packages\\seaborn\\distributions.py:2557: FutureWarning: `distplot` is a deprecated function and will be removed in a future version. Please adapt your code to use either `displot` (a figure-level function with similar flexibility) or `kdeplot` (an axes-level function for kernel density plots).\n",
      "  warnings.warn(msg, FutureWarning)\n"
     ]
    },
    {
     "data": {
      "image/png": "[encoded data removed]",
      "text/plain": [
       "<Figure size 432x288 with 1 Axes>"
      ]
     },
     "metadata": {
      "needs_background": "light"
     },
     "output_type": "display_data"
    }
   ],
   "source": [
    "#distribution plot for MLR\n",
    "\n",
    "ax1 = sns.distplot(Y1,hist = False,color = 'r',label = \"Actual Values\")\n",
    "sns.distplot(Yhat1,hist = False,color = 'g',label = \"Fitted Values\",ax = ax1)\n",
    "plt.title('Age&Annual Income v spending')\n",
    "plt.xlabel('score')\n",
    "plt.ylabel('Spending score')\n",
    "plt.grid()\n",
    "plt.legend()\n",
    "plt.show()"
   ]
  },
  {
   "cell_type": "code",
   "execution_count": 55,
   "id": "bba50b6d",
   "metadata": {},
   "outputs": [],
   "source": [
    "X2 = df[['Age','Annual_Income']]\n",
    "Y2 = df['Spending_Score']"
   ]
  },
  {
   "cell_type": "code",
   "execution_count": 56,
   "id": "6eca675a",
   "metadata": {},
   "outputs": [
    {
     "data": {
      "text/plain": [
       "(200, 2)"
      ]
     },
     "execution_count": 56,
     "metadata": {},
     "output_type": "execute_result"
    }
   ],
   "source": [
    "X2.shape"
   ]
  },
  {
   "cell_type": "code",
   "execution_count": 57,
   "id": "4fb1f14c",
   "metadata": {},
   "outputs": [
    {
     "data": {
      "text/plain": [
       "(200, 45)"
      ]
     },
     "execution_count": 57,
     "metadata": {},
     "output_type": "execute_result"
    }
   ],
   "source": [
    "from sklearn.preprocessing import PolynomialFeatures\n",
    "\n",
    "poly = PolynomialFeatures(degree = 8)\n",
    "X2_poly = poly.fit_transform(X2)\n",
    "X2_poly.shape"
   ]
  },
  {
   "cell_type": "code",
   "execution_count": 58,
   "id": "79c71dbd",
   "metadata": {},
   "outputs": [
    {
     "data": {
      "text/plain": [
       "LinearRegression()"
      ]
     },
     "execution_count": 58,
     "metadata": {},
     "output_type": "execute_result"
    }
   ],
   "source": [
    "lm.fit(X2_poly,Y2)"
   ]
  },
  {
   "cell_type": "code",
   "execution_count": 59,
   "id": "90989c33",
   "metadata": {},
   "outputs": [
    {
     "data": {
      "text/plain": [
       "-170.08239016104636"
      ]
     },
     "execution_count": 59,
     "metadata": {},
     "output_type": "execute_result"
    }
   ],
   "source": [
    "lm.intercept_"
   ]
  },
  {
   "cell_type": "code",
   "execution_count": 60,
   "id": "42c37bc5",
   "metadata": {},
   "outputs": [
    {
     "data": {
      "text/plain": [
       "array([-1.08474739e-01,  6.26134246e-04, -7.60071723e-04,  1.37263895e-02,\n",
       "       -2.74841207e-03, -6.90762500e-03,  1.40513307e-01,  1.91490357e-02,\n",
       "       -4.22521752e-02,  8.28365662e-02, -1.18173322e-02, -8.98264951e-04,\n",
       "        6.95727563e-03, -9.00676525e-03, -1.63645112e-03,  3.00000641e-04,\n",
       "        4.13052769e-04, -8.36697269e-04,  5.57151855e-04,  9.08544011e-05,\n",
       "        1.89550383e-05, -2.19345907e-06, -1.66698576e-05,  2.42832353e-05,\n",
       "       -8.78024803e-06, -5.10641675e-06, -3.38819964e-07, -1.41161813e-07,\n",
       "       -1.37673644e-08,  2.38694256e-07, -2.84228750e-07,  5.68544351e-08,\n",
       "        5.02431989e-08,  2.54356484e-08, -1.39636403e-09,  7.48074885e-10,\n",
       "        1.80530725e-10, -1.19659095e-09,  1.28580661e-09, -2.63834084e-10,\n",
       "       -1.04499804e-11, -2.13030569e-10, -1.45415356e-11,  2.98187543e-12,\n",
       "       -1.52023218e-12])"
      ]
     },
     "execution_count": 60,
     "metadata": {},
     "output_type": "execute_result"
    }
   ],
   "source": [
    "lm.coef_"
   ]
  },
  {
   "cell_type": "code",
   "execution_count": 61,
   "id": "2afaab51",
   "metadata": {},
   "outputs": [],
   "source": [
    "Yhat2 = lm.predict(X2_poly)"
   ]
  },
  {
   "cell_type": "code",
   "execution_count": 64,
   "id": "14d57f3c",
   "metadata": {},
   "outputs": [
    {
     "name": "stderr",
     "output_type": "stream",
     "text": [
      "c:\\users\\ncmol\\appdata\\local\\programs\\common\\lib\\site-packages\\seaborn\\distributions.py:2557: FutureWarning: `distplot` is a deprecated function and will be removed in a future version. Please adapt your code to use either `displot` (a figure-level function with similar flexibility) or `kdeplot` (an axes-level function for kernel density plots).\n",
      "  warnings.warn(msg, FutureWarning)\n",
      "c:\\users\\ncmol\\appdata\\local\\programs\\common\\lib\\site-packages\\seaborn\\distributions.py:2557: FutureWarning: `distplot` is a deprecated function and will be removed in a future version. Please adapt your code to use either `displot` (a figure-level function with similar flexibility) or `kdeplot` (an axes-level function for kernel density plots).\n",
      "  warnings.warn(msg, FutureWarning)\n"
     ]
    },
    {
     "data": {
      "text/plain": [
       "Text(0, 0.5, 'Prices')"
      ]
     },
     "execution_count": 64,
     "metadata": {},
     "output_type": "execute_result"
    },
    {
     "data": {
      "image/png": "[encoded data removed]",
      "text/plain": [
       "<Figure size 432x288 with 1 Axes>"
      ]
     },
     "metadata": {
      "needs_background": "light"
     },
     "output_type": "display_data"
    }
   ],
   "source": [
    "# polynomial regression for one dimensional, 3rd order\n",
    "import matplotlib.pyplot as plt\n",
    "%matplotlib inline\n",
    "import seaborn as sns\n",
    "\n",
    "#plt.subplots(figsize=(7,7))\n",
    "\n",
    "ax1 = sns.distplot(Y2,hist=False,color = 'r',label = 'Actual values')\n",
    "sns.distplot(Yhat2,hist=False,color = 'g',label = 'Fitted values',ax = ax1)\n",
    "plt.title('Distribution for price v prediction')\n",
    "plt.grid()\n",
    "plt.legend()\n",
    "plt.xlabel('Variables')\n",
    "plt.ylabel('Prices')"
   ]
  },
  {
   "cell_type": "code",
   "execution_count": 63,
   "id": "5edc0f2c",
   "metadata": {},
   "outputs": [
    {
     "data": {
      "text/plain": [
       "0.5455208341344784"
      ]
     },
     "execution_count": 63,
     "metadata": {},
     "output_type": "execute_result"
    }
   ],
   "source": [
    "lm.score(X2_poly,Y2)"
   ]
  }
 ],
 "metadata": {
  "kernelspec": {
   "display_name": "Python 3",
   "language": "python",
   "name": "python3"
  },
  "language_info": {
   "codemirror_mode": {
    "name": "ipython",
    "version": 3
   },
   "file_extension": ".py",
   "mimetype": "text/x-python",
   "name": "python",
   "nbconvert_exporter": "python",
   "pygments_lexer": "ipython3",
   "version": "3.9.4"
  }
 },
 "nbformat": 4,
 "nbformat_minor": 5
}
